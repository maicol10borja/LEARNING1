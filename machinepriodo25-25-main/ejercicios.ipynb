{
 "cells": [
  {
   "cell_type": "markdown",
   "id": "12fdb2fd-18e9-41f1-a6ce-732008f9439c",
   "metadata": {},
   "source": [
    "<img src=\"img/Recurso-26.png\" width=\"200\">\n",
    "\n",
    "## Ejercicios\n",
    "\n",
    "*MICHAEL BORJA*"
   ]
  },
  {
   "cell_type": "markdown",
   "id": "09fd57e5-26b1-4458-8a96-b2e1c4ba9a9c",
   "metadata": {},
   "source": [
    "1. Escribe un programa que muestre por pantalla la concatenación de un número y una cadena de caracteres. Para obtener esta concatenación puedes usar uno de los operadores explicados en este tema. Ejemplo: dado el número 3 y la cadena 'abc', el programa mostrará la cadena '3abc'."
   ]
  },
  {
   "cell_type": "code",
   "execution_count": 2,
   "id": "ac2c6078-ac32-4de7-af62-6ba7176d8068",
   "metadata": {},
   "outputs": [
    {
     "name": "stdout",
     "output_type": "stream",
     "text": [
      "3abc\n"
     ]
    }
   ],
   "source": [
    "# Ejercicio1\n",
    "numero = 3\n",
    "cadena = 'abc'\n",
    "resultado = str(numero) + cadena\n",
    "print(resultado)"
   ]
  },
  {
   "cell_type": "markdown",
   "id": "c7d9f97e-bc41-4435-9c51-258785f2c0ea",
   "metadata": {},
   "source": [
    "2. Escribe un programa que muestre por pantalla un valor booleano que indique si un número entero *N* está contenido en un intervalo semiabierto *[a,b)*, el cual establece una cota inferior *a* (inclusive) y una cota superior *b* (exclusive) para *N*.\n"
   ]
  },
  {
   "cell_type": "code",
   "execution_count": 5,
   "id": "fc58d394-1a3b-4f48-bfa6-aeb6e8816930",
   "metadata": {},
   "outputs": [
    {
     "name": "stdout",
     "output_type": "stream",
     "text": [
      "True\n"
     ]
    }
   ],
   "source": [
    "# Ejercicio2\n",
    "N = 5\n",
    "a = 3\n",
    "b = 10\n",
    "if a <= N < b:\n",
    "    print(True)\n",
    "else:\n",
    "    print(False)\n"
   ]
  },
  {
   "cell_type": "code",
   "execution_count": null,
   "id": "d3f77a98-bbdf-493e-9473-85dc4684454a",
   "metadata": {},
   "outputs": [],
   "source": []
  },
  {
   "cell_type": "code",
   "execution_count": null,
   "id": "430e4d1e-287a-40a4-b8be-f2500cf5f721",
   "metadata": {},
   "outputs": [],
   "source": []
  }
 ],
 "metadata": {
  "kernelspec": {
   "display_name": "Python 3 (ipykernel)",
   "language": "python",
   "name": "python3"
  },
  "language_info": {
   "codemirror_mode": {
    "name": "ipython",
    "version": 3
   },
   "file_extension": ".py",
   "mimetype": "text/x-python",
   "name": "python",
   "nbconvert_exporter": "python",
   "pygments_lexer": "ipython3",
   "version": "3.13.5"
  }
 },
 "nbformat": 4,
 "nbformat_minor": 5
}
