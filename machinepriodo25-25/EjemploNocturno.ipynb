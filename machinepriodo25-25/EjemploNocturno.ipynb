{
 "cells": [
  {
   "cell_type": "markdown",
   "id": "3005ff8a-6429-44f7-9bcf-881390ef780f",
   "metadata": {},
   "source": [
    "# Introducción \n",
    "\n",
    "Machine E-learning es una rama de la IA<br>\n",
    "<img src=\"img/python_logo.png\"><br>\n",
    "\n",
    "**Nombre:** Elvis Pachacama<br>\n",
    "*Fecha:* 24/06/2024<br>\n",
    "<a href=\"https://github.com/ElvisDavis/machinepriodo25-25/blob/main/PAO25_25_02_Python_Datatype.ipynb\">Enlace a GitHub</a><br>\n",
    "## Lenguajes de Programación \n",
    "* Python\n",
    "* Java"
   ]
  }
 ],
 "metadata": {
  "kernelspec": {
   "display_name": "Python 3 (ipykernel)",
   "language": "python",
   "name": "python3"
  },
  "language_info": {
   "codemirror_mode": {
    "name": "ipython",
    "version": 3
   },
   "file_extension": ".py",
   "mimetype": "text/x-python",
   "name": "python",
   "nbconvert_exporter": "python",
   "pygments_lexer": "ipython3",
   "version": "3.13.5"
  }
 },
 "nbformat": 4,
 "nbformat_minor": 5
}
