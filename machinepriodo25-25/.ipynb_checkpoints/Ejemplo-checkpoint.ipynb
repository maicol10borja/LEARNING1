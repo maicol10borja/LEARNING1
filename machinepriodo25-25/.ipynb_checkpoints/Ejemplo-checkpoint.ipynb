{
 "cells": [
  {
   "cell_type": "markdown",
   "id": "ae31171c-5b6b-451a-9f45-7e6d3cdc466d",
   "metadata": {},
   "source": [
    "# Introducción\n",
    "Este es un documento de Python que me permite entender las bases de este lenguaje de programción.<br>\n",
    "<img src=\"https://www.channelpartner.es/wp-content/uploads/2022/11/79456_49.jpg\">\n",
    "https://github.com/ElvisDavis/machinepriodo25-25/blob/main/PAO25_25_02_Python_Datatype.ipynb\n",
    "* Python lenguaje de programción\n",
    "* Java de Programación\n",
    "  * Php lenguaje de programación "
   ]
  },
  {
   "cell_type": "code",
   "execution_count": 14,
   "id": "c38ed2d5-e487-41b5-a57b-7ff4ab0be414",
   "metadata": {},
   "outputs": [
    {
     "name": "stdout",
     "output_type": "stream",
     "text": [
      "el resultado de a es:  5\n"
     ]
    }
   ],
   "source": [
    "# Estos es un comentario\n",
    "a= 5\n",
    "print (\"el resultado de a es: \", a)"
   ]
  },
  {
   "cell_type": "markdown",
   "id": "33d626f0-b3b6-4ac7-9a57-f3771723d537",
   "metadata": {},
   "source": [
    "# Estructuras Condicionales (if, elif, else)\n",
    "Sirven para tomar decisiones.\n"
   ]
  },
  {
   "cell_type": "code",
   "execution_count": 10,
   "id": "6546af8a-f6e8-4109-bb99-960768efd2b0",
   "metadata": {},
   "outputs": [
    {
     "name": "stdout",
     "output_type": "stream",
     "text": [
      "Eres mayor de edad\n"
     ]
    }
   ],
   "source": [
    "edad = 18\n",
    "\n",
    "if edad >= 18:\n",
    "    print(\"Eres mayor de edad\")\n",
    "elif edad >= 13:\n",
    "    print(\"Eres adolescente\")\n",
    "else:\n",
    "    print(\"Eres menor de edad\")\n"
   ]
  },
  {
   "cell_type": "markdown",
   "id": "02ca56db-b149-4b9e-9d1a-8490005c60c0",
   "metadata": {},
   "source": [
    "# Ciclos Repetitivos (for, while)\n",
    "Se usa para iterar sobre elementos (listas, rangos, etc.)"
   ]
  },
  {
   "cell_type": "code",
   "execution_count": 11,
   "id": "39b99b21-74bc-4a2d-afe8-2119d984862f",
   "metadata": {},
   "outputs": [
    {
     "name": "stdout",
     "output_type": "stream",
     "text": [
      "Número: 0\n",
      "Número: 1\n",
      "Número: 2\n",
      "Número: 3\n",
      "Número: 4\n"
     ]
    }
   ],
   "source": [
    "# Iterar del 0 al 4\n",
    "for i in range(5):\n",
    "    print(\"Número:\", i)\n"
   ]
  },
  {
   "cell_type": "code",
   "execution_count": 12,
   "id": "e86688de-f768-4386-9801-091ee8da3d6c",
   "metadata": {},
   "outputs": [
    {
     "name": "stdout",
     "output_type": "stream",
     "text": [
      "manzana\n",
      "banana\n",
      "naranja\n"
     ]
    }
   ],
   "source": [
    "# Iterar sobre una lista\n",
    "frutas = [\"manzana\", \"banana\", \"naranja\"]\n",
    "for fruta in frutas:\n",
    "    print(fruta)\n"
   ]
  },
  {
   "cell_type": "markdown",
   "id": "82662413-795a-4a98-9adf-ec20c24e841a",
   "metadata": {},
   "source": [
    "# While \n",
    "Repite mientras se cumpla una condición"
   ]
  },
  {
   "cell_type": "code",
   "execution_count": 20,
   "id": "8047dd3f-dcb0-4b44-99d7-12a8c17a90e0",
   "metadata": {},
   "outputs": [
    {
     "name": "stdout",
     "output_type": "stream",
     "text": [
      "Contador: 0\n",
      "Contador: 1\n",
      "Contador: 2\n",
      "Contador: 3\n",
      "Contador: 4\n"
     ]
    }
   ],
   "source": [
    "contador = 0\n",
    "while contador < 5:\n",
    "    print(\"Contador:\", contador)\n",
    "    contador += 1\n"
   ]
  },
  {
   "cell_type": "code",
   "execution_count": 27,
   "id": "882c82f9-0dc2-4412-9ddd-6630b17ae93c",
   "metadata": {},
   "outputs": [
    {
     "name": "stdout",
     "output_type": "stream",
     "text": [
      "1 es impar\n",
      "2 es par\n",
      "3 es impar\n",
      "4 es par\n",
      "5 es impar\n"
     ]
    }
   ],
   "source": [
    "#Ejemplo completo combinando if, for y while\n",
    "\n",
    "i = 1\n",
    "while i <= 5:\n",
    "    if i % 2 == 0:\n",
    "        print(f\"{i} es par\")\n",
    "    else:\n",
    "        print(f\"{i} es impar\")\n",
    "    i += 1\n",
    "    \n"
   ]
  },
  {
   "cell_type": "code",
   "execution_count": null,
   "id": "e62075cd-12fa-4e96-866f-2358527fbe4a",
   "metadata": {},
   "outputs": [],
   "source": []
  }
 ],
 "metadata": {
  "kernelspec": {
   "display_name": "Python 3 (ipykernel)",
   "language": "python",
   "name": "python3"
  },
  "language_info": {
   "codemirror_mode": {
    "name": "ipython",
    "version": 3
   },
   "file_extension": ".py",
   "mimetype": "text/x-python",
   "name": "python",
   "nbconvert_exporter": "python",
   "pygments_lexer": "ipython3",
   "version": "3.13.5"
  }
 },
 "nbformat": 4,
 "nbformat_minor": 5
}
