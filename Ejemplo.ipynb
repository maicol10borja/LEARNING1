{
 "cells": [
  {
   "cell_type": "markdown",
   "id": "2f3127f3-8e0c-42e5-839e-ae831c9facbc",
   "metadata": {},
   "source": [
    "## Introduccion\n",
    "<br>\n",
    "Este es un documento de Python que me permite entender las bases de este lenguaje de Programacion\n",
    "<br\n",
    "<br>\n",
    "<img src=\"https://programacion.net/files/article/20160603020635_python-logo.png\">\n",
    "<br>\n",
    "<br>\n",
    "https://github.com/maicol10borja/LEARNING1.git\n",
    "<br>\n",
    "<br>\n",
    "* Python lenguaje de Programacion \n",
    "<br>"
   ]
  },
  {
   "cell_type": "code",
   "execution_count": 4,
   "id": "a2e7c65e-38ad-42ba-8a52-8f4252ea594d",
   "metadata": {},
   "outputs": [
    {
     "name": "stdout",
     "output_type": "stream",
     "text": [
      "el resultado de a es: 5\n"
     ]
    }
   ],
   "source": [
    "# Esto es un comenatario\n",
    "a = 5\n",
    "print(\"el resultado de a es:\",a)\n"
   ]
  },
  {
   "cell_type": "code",
   "execution_count": null,
   "id": "27b7967d-9566-483e-8cc8-32d1ed699b72",
   "metadata": {},
   "outputs": [],
   "source": []
  }
 ],
 "metadata": {
  "kernelspec": {
   "display_name": "Python 3 (ipykernel)",
   "language": "python",
   "name": "python3"
  },
  "language_info": {
   "codemirror_mode": {
    "name": "ipython",
    "version": 3
   },
   "file_extension": ".py",
   "mimetype": "text/x-python",
   "name": "python",
   "nbconvert_exporter": "python",
   "pygments_lexer": "ipython3",
   "version": "3.13.5"
  }
 },
 "nbformat": 4,
 "nbformat_minor": 5
}
